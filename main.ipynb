{
 "cells": [
  {
   "cell_type": "code",
   "execution_count": null,
   "metadata": {
    "collapsed": true
   },
   "outputs": [],
   "source": [
    "import os\n",
    "os.getcwd()\n",
    "from tqdm import tqdm\n",
    "import numpy as np\n",
    "import cv2\n",
    "import random\n",
    "from sklearn.preprocessing import LabelEncoder\n",
    "import math"
   ]
  },
  {
   "cell_type": "code",
   "execution_count": null,
   "metadata": {},
   "outputs": [],
   "source": [
    "import numpy as np\n",
    "import pandas as pd\n",
    "from tqdm import tqdm as tqdm\n",
    "from sklearn.preprocessing import LabelEncoder\n",
    "import time\n",
    "import tensorflow as tf\n",
    "import matplotlib.pyplot as plt\n",
    "\n",
    "%matplotlib inline"
   ]
  },
  {
   "cell_type": "code",
   "execution_count": null,
   "metadata": {
    "collapsed": true
   },
   "outputs": [],
   "source": [
    "DIR = './../dog-breed-identification/train/'"
   ]
  },
  {
   "cell_type": "code",
   "execution_count": null,
   "metadata": {
    "collapsed": true
   },
   "outputs": [],
   "source": [
    "inception_pb = './inception_pb/inception.pb'\n",
    "bottleneck_file = './bottleneck/Bottle_neck_values.csv'"
   ]
  },
  {
   "cell_type": "code",
   "execution_count": null,
   "metadata": {},
   "outputs": [],
   "source": [
    "labels_df = pd.read_csv('./labels.csv')\n",
    "labels_df.head()"
   ]
  },
  {
   "cell_type": "code",
   "execution_count": null,
   "metadata": {},
   "outputs": [],
   "source": [
    "data = []\n",
    "labels = []\n",
    "IMG_SIZE = 64\n",
    "for i, directory in enumerate(tqdm(os.listdir(DIR)[:2000])):\n",
    "  path1 = os.path.join(DIR, directory)\n",
    "#   print(path1)\n",
    "  label = directory.split('.')[0]\n",
    "#   print(directory)\n",
    "  img = cv2.imread(path1)\n",
    "  img = cv2.cvtColor(img, cv2.COLOR_BGR2RGB)\n",
    "  img = cv2.resize(img,(IMG_SIZE,IMG_SIZE))\n",
    "  labels.append([np.array(labels_df[labels_df['id']==label]['breed'])])\n",
    "  data.append([np.array(img)])\n",
    "#   print(labels)\n",
    "  if i == 2000: break\n",
    "    \n",
    "    \n",
    "    \n",
    "random.Random(1).shuffle(data)\n",
    "random.Random(1).shuffle(labels)"
   ]
  },
  {
   "cell_type": "code",
   "execution_count": null,
   "metadata": {},
   "outputs": [],
   "source": [
    "data = np.squeeze(np.array(data))\n",
    "data.shape"
   ]
  },
  {
   "cell_type": "code",
   "execution_count": null,
   "metadata": {},
   "outputs": [],
   "source": [
    "labels = np.array(labels)\n",
    "labels = labels.reshape(2000,1)\n",
    "labels.shape"
   ]
  },
  {
   "cell_type": "code",
   "execution_count": null,
   "metadata": {
    "collapsed": true
   },
   "outputs": [],
   "source": [
    "label_dff = pd.DataFrame(labels, columns = ['classes'])\n",
    "# label_unique = label_dff.classes.unique()\n",
    "en = LabelEncoder()\n",
    "en.fit(label_dff.classes)\n",
    "encoded_label = en.transform(label_dff.classes)\n",
    "label_dff[\"encoded_label\"] = encoded_label\n",
    "labels = pd.get_dummies(encoded_label)"
   ]
  },
  {
   "cell_type": "code",
   "execution_count": null,
   "metadata": {},
   "outputs": [],
   "source": [
    "plt.figure(figsize=(10,10))\n",
    "plt.imshow(data[59])"
   ]
  },
  {
   "cell_type": "code",
   "execution_count": null,
   "metadata": {
    "collapsed": true
   },
   "outputs": [],
   "source": [
    "labels = np.array(labels)"
   ]
  },
  {
   "cell_type": "code",
   "execution_count": null,
   "metadata": {},
   "outputs": [],
   "source": [
    "data.shape , labels.shape"
   ]
  },
  {
   "cell_type": "code",
   "execution_count": null,
   "metadata": {
    "collapsed": true
   },
   "outputs": [],
   "source": [
    "def load_graph(frozen_graph_filename):\n",
    "    with tf.gfile.GFile(frozen_graph_filename, \"rb\") as f:\n",
    "        graph_def = tf.GraphDef()\n",
    "        graph_def.ParseFromString(f.read())\n",
    "        \n",
    "    with tf.Graph().as_default() as graph:\n",
    "        tf.import_graph_def(graph_def, name=\"inception\")\n",
    "    return graph"
   ]
  },
  {
   "cell_type": "code",
   "execution_count": null,
   "metadata": {},
   "outputs": [],
   "source": [
    "graph = load_graph(inception_pb)"
   ]
  },
  {
   "cell_type": "code",
   "execution_count": null,
   "metadata": {
    "collapsed": true
   },
   "outputs": [],
   "source": [
    "def fc_layer(input, size_in, size_out, name=\"fc\", activation = None):\n",
    "  with tf.name_scope(name):\n",
    "    w = tf.Variable(tf.truncated_normal([size_in, size_out], stddev=0.1), name=\"W\")\n",
    "    b = tf.Variable(tf.constant(0.1, shape=[size_out]), name=\"B\")\n",
    "    act = tf.matmul(input, w) + b\n",
    "    if activation == 'relu' :\n",
    "        act = tf.nn.relu(act)\n",
    "    tf.summary.histogram(\"weights\", w)\n",
    "    tf.summary.histogram(\"biases\", b)\n",
    "    tf.summary.histogram(\"activations\", act)\n",
    "    return act"
   ]
  },
  {
   "cell_type": "code",
   "execution_count": null,
   "metadata": {
    "collapsed": true
   },
   "outputs": [],
   "source": [
    "def compute_cost(logits,Y):\n",
    "  with tf.name_scope('cost'):\n",
    "    cost = tf.reduce_mean(tf.nn.softmax_cross_entropy_with_logits_v2(logits = logits, labels = Y))\n",
    "    return cost"
   ]
  },
  {
   "cell_type": "code",
   "execution_count": null,
   "metadata": {},
   "outputs": [],
   "source": [
    "with graph.as_default():\n",
    "    with tf.variable_scope(\"transfer\"):\n",
    "        bottleneck = graph.get_tensor_by_name('inception/pool_3:0')#From inception graph\n",
    "        Y = tf.placeholder(tf.float32, [None, 120])\n",
    "        X = tf.placeholder(tf.float32, [None, 2048])\n",
    "        #X = bottleneck\n",
    "        #fc0 = tf.reshape(X,[-1,2048]) #squeeze\n",
    "        fc1 = fc_layer(X,   2048, 512,  \"fc1\", activation = 'relu')\n",
    "        fc2 = fc_layer(fc1, 512,  128,  \"fc2\", activation = 'relu')\n",
    "        logits = fc_layer(fc2,   128,  120,     \"logits\",       activation =  None)\n",
    "        cost   = compute_cost(logits,Y)\n",
    "        var = tf.get_collection(key=tf.GraphKeys.TRAINABLE_VARIABLES, scope=\"transfer/\") #trainable var_scope\n",
    "        optimizer = tf.train.AdamOptimizer(learning_rate=0.001, name=\"adam\").minimize(cost, var_list=var) #var_list"
   ]
  },
  {
   "cell_type": "code",
   "execution_count": null,
   "metadata": {
    "collapsed": true
   },
   "outputs": [],
   "source": [
    "def create_bottleneck():\n",
    "    with tf.Session(graph=graph) as sess:\n",
    "        im_input = graph.get_tensor_by_name('inception/ExpandDims:0')\n",
    "        Bottle_neck_values = []\n",
    "        m = data.shape[0]\n",
    "        indices = np.arange(m)\n",
    "        for index in tqdm(range(0, m, 1)): # 1 is when SGD\n",
    "            batch = indices[index:index + 1]\n",
    "            Bottle_neck_values.append(sess.run(bottleneck, feed_dict= {im_input:data[batch]}))\n",
    "        df = pd.DataFrame(np.array(np.squeeze(Bottle_neck_values)))\n",
    "        df.to_csv(\"./bottleneck/Bottle_neck_values.csv\", index=False)\n",
    "    return Bottle_neck_values"
   ]
  },
  {
   "cell_type": "code",
   "execution_count": null,
   "metadata": {},
   "outputs": [],
   "source": [
    "create_bottleneck()"
   ]
  },
  {
   "cell_type": "code",
   "execution_count": null,
   "metadata": {
    "collapsed": true
   },
   "outputs": [],
   "source": [
    "def create_placeholder(n_H0, n_W0, n_C0, n_y):\n",
    "  X = tf.placeholder(tf.float32,[None,n_H0, n_W0, n_C0])\n",
    "  Y = tf.placeholder(tf.float32,[None,n_y])\n",
    "  return X,Y"
   ]
  },
  {
   "cell_type": "code",
   "execution_count": null,
   "metadata": {
    "collapsed": true
   },
   "outputs": [],
   "source": [
    "def conv_layer(input, size_in, size_out, name = 'conv'):\n",
    "  with tf.name_scope(name):\n",
    "    w = tf.Variable(tf.truncated_normal([5, 5, size_in, size_out], stddev=0.01), name = 'W')\n",
    "    b = tf.Variable(tf.constant(0.01, shape =[size_out]), name = 'B')\n",
    "    conv = tf.nn.conv2d(input, w, strides = [1,1,1,1], padding = 'SAME')\n",
    "    with tf.name_scope('relu'):\n",
    "      act = tf.nn.relu(conv + b)\n",
    "    with tf.name_scope('maxpool'):\n",
    "        max_pool = tf.nn.max_pool(act, ksize = [1,2,2,1], strides = [1,1,1,1], padding = 'SAME')\n",
    "  return max_pool"
   ]
  },
  {
   "cell_type": "code",
   "execution_count": null,
   "metadata": {
    "collapsed": true
   },
   "outputs": [],
   "source": [
    "def iterate_minibatches(inputs,targets,batchsize):#using python operator\n",
    "  assert inputs.shape[0] == targets.shape[0]\n",
    "  m = inputs.shape[0]\n",
    "  indices = np.arange(m)\n",
    "  np.random.shuffle(indices)\n",
    "  for index in range(0, m - batchsize + 1, batchsize):\n",
    "    batch = indices[index:index+batchsize]\n",
    "    yield inputs[batch], targets[batch]\n",
    "    \n",
    "  if m % batchsize != 0:\n",
    "        batch = indices[math.floor(m/batchsize)*batchsize:m]\n",
    "        yield inputs[batch], targets[batch]"
   ]
  },
  {
   "cell_type": "code",
   "execution_count": null,
   "metadata": {},
   "outputs": [],
   "source": [
    "bottle_neck = np.array(pd.read_csv(\"./bottleneck/Bottle_neck_values.csv\"))"
   ]
  },
  {
   "cell_type": "code",
   "execution_count": null,
   "metadata": {},
   "outputs": [],
   "source": [
    "bottle_neck.shape , labels.shape"
   ]
  },
  {
   "cell_type": "code",
   "execution_count": null,
   "metadata": {
    "collapsed": true
   },
   "outputs": [],
   "source": [
    "x_train = bottle_neck[:1500, :]\n",
    "x_test = bottle_neck[1500:, :]\n",
    "y_train = labels[:1500, :]\n",
    "y_test = labels[1500:, :]"
   ]
  },
  {
   "cell_type": "code",
   "execution_count": null,
   "metadata": {},
   "outputs": [],
   "source": [
    "x_train.shape, x_test.shape, y_train.shape, y_test.shape\n",
    "\n"
   ]
  },
  {
   "cell_type": "code",
   "execution_count": null,
   "metadata": {},
   "outputs": [],
   "source": [
    "with tf.Session(graph=graph) as sess:\n",
    "    #sess.run(tf.variables_initializer(var_list = var, name='init'))\n",
    "    #writer = tf.summary.FileWriter(filename, sess.graph)\n",
    "    sess.run(tf.global_variables_initializer())\n",
    "\n",
    "    \n",
    "\n",
    "\n",
    "    minibatch_size = 2\n",
    "    num_epochs = 5\n",
    "    for epoch in range(num_epochs):\n",
    "        avg_cost = 0\n",
    "        for i, minibatch in enumerate(iterate_minibatches(x_train, y_train, minibatch_size)):\n",
    "            (minibatch_X, minibatch_Y) = minibatch\n",
    "            sess.run(optimizer, feed_dict={X: minibatch_X, Y: minibatch_Y})\n",
    "            avg_cost += sess.run(cost, feed_dict={X: minibatch_X, Y: minibatch_Y})\n",
    "            #summ = sess.run(summaryMerged, feed_dict={X: minibatch_X, Y: minibatch_Y})\n",
    "            #writer.add_summary(summ, i)\n",
    "        print (\"Cost after iteration %i: %f \" % (i, avg_cost/(i+1)))\n",
    "        \n",
    "        \n",
    "    print(\"Training completed!!\") \n",
    "        \n",
    "\n",
    "\n",
    "\n",
    "    \n",
    "    \n",
    "    with tf.name_scope('accuracy'):\n",
    "      correct_prediction = tf.equal(tf.argmax(logits,1), tf.argmax(Y,1))\n",
    "      accuracy = tf.reduce_mean(tf.cast(correct_prediction, tf.float32))\n",
    "    \n",
    "    \n",
    "    \n",
    "    \n",
    "    \n",
    "    accuracy = tf.reduce_mean(tf.cast(correct_prediction, 'float'))*100\n",
    "    train_accuracy = accuracy.eval({X: x_train, Y: y_train})\n",
    "    test_accuracy = accuracy.eval({X:x_test, Y: y_test})\n",
    "    print(\"Train Accuracy:\", train_accuracy)\n",
    "    print(\"Test Accuracy:\", test_accuracy)\n",
    "\n",
    "    \n",
    "    \n",
    "    predict_op = tf.argmax(logits, 1) \n",
    "    pred = sess.run(predict_op, feed_dict={X: x_test})"
   ]
  }
 ],
 "metadata": {
  "kernelspec": {
   "display_name": "Python 3",
   "language": "python",
   "name": "python3"
  },
  "language_info": {
   "codemirror_mode": {
    "name": "ipython",
    "version": 3
   },
   "file_extension": ".py",
   "mimetype": "text/x-python",
   "name": "python",
   "nbconvert_exporter": "python",
   "pygments_lexer": "ipython3",
   "version": "3.6.3"
  }
 },
 "nbformat": 4,
 "nbformat_minor": 2
}
