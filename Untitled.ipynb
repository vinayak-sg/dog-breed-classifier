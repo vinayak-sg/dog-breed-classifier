{
 "cells": [
  {
   "cell_type": "code",
   "execution_count": 1,
   "metadata": {
    "collapsed": true
   },
   "outputs": [],
   "source": [
    "import os\n",
    "os.getcwd()\n",
    "from tqdm import tqdm\n",
    "import numpy as np\n",
    "import cv2\n",
    "import random\n",
    "from sklearn.preprocessing import LabelEncoder\n",
    "import math"
   ]
  },
  {
   "cell_type": "code",
   "execution_count": 2,
   "metadata": {},
   "outputs": [
    {
     "name": "stderr",
     "output_type": "stream",
     "text": [
      "/Users/midhunpk/anaconda3/lib/python3.6/site-packages/h5py/__init__.py:34: FutureWarning: Conversion of the second argument of issubdtype from `float` to `np.floating` is deprecated. In future, it will be treated as `np.float64 == np.dtype(float).type`.\n",
      "  from ._conv import register_converters as _register_converters\n"
     ]
    }
   ],
   "source": [
    "import numpy as np\n",
    "import pandas as pd\n",
    "from tqdm import tqdm as tqdm\n",
    "from sklearn.preprocessing import LabelEncoder\n",
    "import time\n",
    "import tensorflow as tf\n",
    "import matplotlib.pyplot as plt\n",
    "\n",
    "%matplotlib inline"
   ]
  },
  {
   "cell_type": "code",
   "execution_count": 3,
   "metadata": {
    "collapsed": true
   },
   "outputs": [],
   "source": [
    "DIR = './../dog-breed-identification/train/'"
   ]
  },
  {
   "cell_type": "code",
   "execution_count": 4,
   "metadata": {},
   "outputs": [
    {
     "data": {
      "text/html": [
       "<div>\n",
       "<style scoped>\n",
       "    .dataframe tbody tr th:only-of-type {\n",
       "        vertical-align: middle;\n",
       "    }\n",
       "\n",
       "    .dataframe tbody tr th {\n",
       "        vertical-align: top;\n",
       "    }\n",
       "\n",
       "    .dataframe thead th {\n",
       "        text-align: right;\n",
       "    }\n",
       "</style>\n",
       "<table border=\"1\" class=\"dataframe\">\n",
       "  <thead>\n",
       "    <tr style=\"text-align: right;\">\n",
       "      <th></th>\n",
       "      <th>id</th>\n",
       "      <th>breed</th>\n",
       "    </tr>\n",
       "  </thead>\n",
       "  <tbody>\n",
       "    <tr>\n",
       "      <th>0</th>\n",
       "      <td>000bec180eb18c7604dcecc8fe0dba07</td>\n",
       "      <td>boston_bull</td>\n",
       "    </tr>\n",
       "    <tr>\n",
       "      <th>1</th>\n",
       "      <td>001513dfcb2ffafc82cccf4d8bbaba97</td>\n",
       "      <td>dingo</td>\n",
       "    </tr>\n",
       "    <tr>\n",
       "      <th>2</th>\n",
       "      <td>001cdf01b096e06d78e9e5112d419397</td>\n",
       "      <td>pekinese</td>\n",
       "    </tr>\n",
       "    <tr>\n",
       "      <th>3</th>\n",
       "      <td>00214f311d5d2247d5dfe4fe24b2303d</td>\n",
       "      <td>bluetick</td>\n",
       "    </tr>\n",
       "    <tr>\n",
       "      <th>4</th>\n",
       "      <td>0021f9ceb3235effd7fcde7f7538ed62</td>\n",
       "      <td>golden_retriever</td>\n",
       "    </tr>\n",
       "  </tbody>\n",
       "</table>\n",
       "</div>"
      ],
      "text/plain": [
       "                                 id             breed\n",
       "0  000bec180eb18c7604dcecc8fe0dba07       boston_bull\n",
       "1  001513dfcb2ffafc82cccf4d8bbaba97             dingo\n",
       "2  001cdf01b096e06d78e9e5112d419397          pekinese\n",
       "3  00214f311d5d2247d5dfe4fe24b2303d          bluetick\n",
       "4  0021f9ceb3235effd7fcde7f7538ed62  golden_retriever"
      ]
     },
     "execution_count": 4,
     "metadata": {},
     "output_type": "execute_result"
    }
   ],
   "source": [
    "labels_df = pd.read_csv('./labels.csv')\n",
    "labels_df.head()\n"
   ]
  },
  {
   "cell_type": "code",
   "execution_count": 5,
   "metadata": {},
   "outputs": [
    {
     "name": "stderr",
     "output_type": "stream",
     "text": [
      "100%|██████████| 2000/2000 [00:08<00:00, 234.20it/s]\n"
     ]
    }
   ],
   "source": [
    "data = []\n",
    "labels = []\n",
    "IMG_SIZE = 64\n",
    "for i, directory in enumerate(tqdm(os.listdir(DIR)[:2000])):\n",
    "  path1 = os.path.join(DIR, directory)\n",
    "#   print(path1)\n",
    "  label = directory.split('.')[0]\n",
    "#   print(directory)\n",
    "  img = cv2.imread(path1)\n",
    "  img = cv2.cvtColor(img, cv2.COLOR_BGR2RGB)\n",
    "  img = cv2.resize(img,(IMG_SIZE,IMG_SIZE))\n",
    "  labels.append([np.array(labels_df[labels_df['id']==label]['breed'])])\n",
    "  data.append([np.array(img)])\n",
    "#   print(labels)\n",
    "  if i == 2000: break\n",
    "    \n",
    "    \n",
    "    \n",
    "random.Random(1).shuffle(data)\n",
    "random.Random(1).shuffle(labels)"
   ]
  },
  {
   "cell_type": "code",
   "execution_count": 6,
   "metadata": {},
   "outputs": [
    {
     "data": {
      "text/plain": [
       "(2000, 64, 64, 3)"
      ]
     },
     "execution_count": 6,
     "metadata": {},
     "output_type": "execute_result"
    }
   ],
   "source": [
    "data = np.squeeze(np.array(data))\n",
    "data.shape"
   ]
  },
  {
   "cell_type": "code",
   "execution_count": 7,
   "metadata": {},
   "outputs": [
    {
     "data": {
      "text/plain": [
       "(2000, 1)"
      ]
     },
     "execution_count": 7,
     "metadata": {},
     "output_type": "execute_result"
    }
   ],
   "source": [
    "labels = np.array(labels)\n",
    "labels = labels.reshape(2000,1)\n",
    "labels.shape"
   ]
  },
  {
   "cell_type": "code",
   "execution_count": 8,
   "metadata": {
    "collapsed": true
   },
   "outputs": [],
   "source": [
    "label_dff = pd.DataFrame(labels, columns = ['classes'])\n",
    "# label_unique = label_dff.classes.unique()\n",
    "en = LabelEncoder()\n",
    "en.fit(label_dff.classes)\n",
    "encoded_label = en.transform(label_dff.classes)\n",
    "label_dff[\"encoded_label\"] = encoded_label\n",
    "labels = pd.get_dummies(encoded_label)"
   ]
  },
  {
   "cell_type": "code",
   "execution_count": 9,
   "metadata": {},
   "outputs": [
    {
     "data": {
      "text/plain": [
       "<matplotlib.image.AxesImage at 0x10c9d4be0>"
      ]
     },
     "execution_count": 9,
     "metadata": {},
     "output_type": "execute_result"
    },
    {
     "data": {
      "image/png": "[encoded data removed]",
      "text/plain": [
       "<Figure size 720x720 with 1 Axes>"
      ]
     },
     "metadata": {},
     "output_type": "display_data"
    }
   ],
   "source": [
    "plt.figure(figsize=(10,10))\n",
    "plt.imshow(data[59])"
   ]
  },
  {
   "cell_type": "code",
   "execution_count": 10,
   "metadata": {},
   "outputs": [],
   "source": [
    "labels = np.array(labels)"
   ]
  },
  {
   "cell_type": "code",
   "execution_count": 11,
   "metadata": {},
   "outputs": [],
   "source": [
    "x_train = data[:1500, :, :]\n",
    "x_test = data[1500:, :, :]"
   ]
  },
  {
   "cell_type": "code",
   "execution_count": 12,
   "metadata": {},
   "outputs": [],
   "source": [
    "y_train = labels[:1500,]\n",
    "y_test = labels[1500:,]"
   ]
  },
  {
   "cell_type": "code",
   "execution_count": null,
   "metadata": {
    "collapsed": true
   },
   "outputs": [],
   "source": []
  },
  {
   "cell_type": "code",
   "execution_count": 13,
   "metadata": {},
   "outputs": [
    {
     "data": {
      "text/plain": [
       "((1500, 64, 64, 3), (500, 64, 64, 3), (1500, 120), (500, 120))"
      ]
     },
     "execution_count": 13,
     "metadata": {},
     "output_type": "execute_result"
    }
   ],
   "source": [
    "x_train.shape , x_test.shape, y_train.shape, y_test.shape"
   ]
  },
  {
   "cell_type": "code",
   "execution_count": 14,
   "metadata": {},
   "outputs": [],
   "source": [
    "x_train = x_train/255\n",
    "x_test = x_test/255"
   ]
  },
  {
   "cell_type": "code",
   "execution_count": 15,
   "metadata": {},
   "outputs": [],
   "source": [
    "# y_test"
   ]
  },
  {
   "cell_type": "code",
   "execution_count": null,
   "metadata": {
    "collapsed": true
   },
   "outputs": [],
   "source": []
  },
  {
   "cell_type": "code",
   "execution_count": 16,
   "metadata": {},
   "outputs": [],
   "source": [
    "def create_placeholder(n_H0, n_W0, n_C0, n_y):\n",
    "  X = tf.placeholder(tf.float32,[None,n_H0, n_W0, n_C0])\n",
    "  Y = tf.placeholder(tf.float32,[None,n_y])\n",
    "  return X,Y"
   ]
  },
  {
   "cell_type": "code",
   "execution_count": 17,
   "metadata": {
    "collapsed": true
   },
   "outputs": [],
   "source": [
    "def conv_layer(input, size_in, size_out, name = 'conv'):\n",
    "  with tf.name_scope(name):\n",
    "    w = tf.Variable(tf.truncated_normal([5, 5, size_in, size_out], stddev=0.01), name = 'W')\n",
    "    b = tf.Variable(tf.constant(0.01, shape =[size_out]), name = 'B')\n",
    "    conv = tf.nn.conv2d(input, w, strides = [1,1,1,1], padding = 'SAME')\n",
    "    with tf.name_scope('relu'):\n",
    "      act = tf.nn.relu(conv + b)\n",
    "    with tf.name_scope('maxpool'):\n",
    "        max_pool = tf.nn.max_pool(act, ksize = [1,2,2,1], strides = [1,1,1,1], padding = 'SAME')\n",
    "  return max_pool"
   ]
  },
  {
   "cell_type": "code",
   "execution_count": 18,
   "metadata": {
    "collapsed": true
   },
   "outputs": [],
   "source": [
    "def compute_cost(Z,Y):\n",
    "  with tf.name_scope('cost'):\n",
    "    cost = tf.reduce_mean(tf.nn.softmax_cross_entropy_with_logits_v2(logits = Z, labels = Y))\n",
    "    return cost\n",
    "  "
   ]
  },
  {
   "cell_type": "code",
   "execution_count": 19,
   "metadata": {
    "collapsed": true
   },
   "outputs": [],
   "source": [
    "def iterate_minibatches(inputs,targets,batchsize):#using python operator\n",
    "  assert inputs.shape[0] == targets.shape[0]\n",
    "  m = inputs.shape[0]\n",
    "  indices = np.arange(m)\n",
    "  np.random.shuffle(indices)\n",
    "  for index in range(0, m - batchsize + 1, batchsize):\n",
    "    batch = indices[index:index+batchsize]\n",
    "    yield inputs[batch], targets[batch]\n",
    "    \n",
    "  if m % batchsize != 0:\n",
    "        batch = indices[math.floor(m/batchsize)*batchsize:m]\n",
    "        yield inputs[batch], targets[batch]"
   ]
  },
  {
   "cell_type": "code",
   "execution_count": 20,
   "metadata": {},
   "outputs": [],
   "source": [
    "# def iterate_minibatches(inputs, targets, batchsize): #Using python generator\n",
    "#     assert inputs.shape[0] == targets.shape[0]\n",
    "#     m = inputs.shape[0] \n",
    "#     indices = np.arange(m)\n",
    "#     np.random.shuffle(indices)\n",
    "#     for index in range(0, m - batchsize + 1, batchsize): # 1 is when SGD\n",
    "#         batch = indices[index:index + batchsize]\n",
    "#         yield inputs[batch], targets[batch]\n",
    "#     if m % batchsize != 0:\n",
    "#         batch = indices[math.floor(m/batchsize)*batchsize:m]\n",
    "#         yield inputs[batch], targets[batch]\n",
    "\n"
   ]
  },
  {
   "cell_type": "code",
   "execution_count": 21,
   "metadata": {},
   "outputs": [],
   "source": [
    "def model(X_train, X_test, Y_train, Y_test, learning_rate = 0.01, num_epoches = 2, minibatch_size = 50):\n",
    "  tf.reset_default_graph()\n",
    "  \n",
    "  global_step = tf.Variable(0, name = 'global_step', trainable = False)\n",
    "  \n",
    "  (m, n_H0, n_W0, n_C0) = X_train.shape\n",
    "  n_y = Y_train.shape[1]\n",
    "  \n",
    "  \n",
    "  X, Y = create_placeholder(n_H0, n_W0, n_C0, n_y)\n",
    "  \n",
    "  conv1 = conv_layer(X,     3, 10, 'conv1')\n",
    "  conv2 = conv_layer(conv1, 10, 16, 'conv2')\n",
    "#   conv3 = conv_layer(conv2, 16, 32, 'conv3')\n",
    "#   conv4 = conv_layer(conv3, 32, 64, 'conv4')\n",
    "#   conv5 = conv_layer(conv4, 64, 128, 'conv5')\n",
    "  flattend = tf.contrib.layers.flatten(conv1)\n",
    "  \n",
    "  \n",
    "  \n",
    "  fc1 = tf.contrib.layers.fully_connected(flattend, 10, activation_fn = None)\n",
    "  Z = tf.contrib.layers.fully_connected(fc1, 120, activation_fn = None)\n",
    "  prob = tf.nn.softmax(Z, name = 'probs')\n",
    "  prediction = tf.argmax(Z, 1, name = 'predictions')\n",
    "  \n",
    "  \n",
    "  cost = compute_cost(Z, Y)\n",
    "  \n",
    "  \n",
    "  with tf.name_scope('optimize'):\n",
    "    optimizer = tf.train.AdamOptimizer(learning_rate = 0.0001).minimize(cost, global_step = global_step)\n",
    "    \n",
    "    \n",
    "  with tf.name_scope('accuracy'):\n",
    "    correct_prediction = tf.equal(tf.argmax(Z,1), tf.argmax(Y,1))\n",
    "    accuracy = tf.reduce_mean(tf.cast(correct_prediction, tf.float32))\n",
    "\n",
    "\n",
    "  with tf.Session() as sess:\n",
    "    sess.run(tf.global_variables_initializer())\n",
    "    \n",
    "    batchsize = minibatch_size\n",
    "    print(num_epoches)\n",
    "    for epoch in range(num_epoches):\n",
    "      avg_cost = 0\n",
    "      \n",
    "      for minibatch in iterate_minibatches(X_train, Y_train, 16):\n",
    "       \n",
    "        (minibatch_X,minibatch_Y ) = minibatch\n",
    "        \n",
    "        sess.run(optimizer, feed_dict = {X: minibatch_X, Y: minibatch_Y})\n",
    "        \n",
    "        \n",
    "        cst = sess.run(cost, feed_dict = {X:minibatch_X, Y: minibatch_Y})\n",
    "        print(cst)\n",
    "        avg_cost +=cst\n",
    "        \n",
    "        iteration = sess.run(global_step)\n",
    "        \n",
    "        \n",
    "    print('Training completed ! !')\n",
    "    \n",
    "    \n",
    "    accuracy = tf.reduce_mean(tf.cast(correct_prediction, 'float'))*100\n",
    "    train_accuracy = accuracy.eval({X: X_train, Y: Y_train})\n",
    "    test_accuracy = accuracy.eval({X:X_test, Y: Y_test})\n",
    "    print(\"Train Accuracy:\", train_accuracy)\n",
    "    print(\"Test Accuracy:\", test_accuracy)\n",
    "    print(\"Total iterations completed : \", iteration)\n",
    "    \n",
    "    \n",
    "    predict_op = tf.argmax(Z, 1) \n",
    "    pred = sess.run(predict_op, feed_dict={X: x_test})\n",
    "    \n",
    "  return pred\n"
   ]
  },
  {
   "cell_type": "code",
   "execution_count": 22,
   "metadata": {},
   "outputs": [
    {
     "name": "stdout",
     "output_type": "stream",
     "text": [
      "1\n",
      "4.7644153\n",
      "4.7893424\n",
      "4.7486897\n",
      "4.7748265\n",
      "4.7758465\n",
      "4.8019447\n",
      "4.7587404\n",
      "4.7845407\n",
      "4.8530254\n",
      "4.780209\n",
      "4.726899\n",
      "4.776251\n",
      "4.738076\n",
      "4.8146944\n",
      "4.767705\n",
      "4.8363776\n",
      "4.7871113\n",
      "4.7683096\n",
      "4.7814026\n",
      "4.818384\n",
      "4.804928\n",
      "4.7410755\n",
      "4.8073587\n",
      "4.785433\n",
      "4.786606\n",
      "4.7669935\n",
      "4.7904367\n",
      "4.812544\n",
      "4.7318754\n",
      "4.8107758\n",
      "4.808555\n",
      "4.764524\n",
      "4.816065\n",
      "4.77582\n",
      "4.783517\n",
      "4.7885275\n",
      "4.7966313\n",
      "4.761961\n",
      "4.7799015\n",
      "4.7901745\n",
      "4.764482\n",
      "4.807519\n",
      "4.762657\n",
      "4.798938\n",
      "4.8047047\n",
      "4.7738447\n",
      "4.7703514\n",
      "4.787074\n",
      "4.7845078\n",
      "4.7887115\n",
      "4.8043814\n",
      "4.775688\n",
      "4.7935376\n",
      "4.7892027\n",
      "4.781849\n",
      "4.792758\n",
      "4.7608166\n",
      "4.78156\n",
      "4.801709\n",
      "4.770811\n",
      "4.7784233\n",
      "4.7754087\n",
      "4.826148\n",
      "4.789723\n",
      "4.822322\n",
      "4.7896223\n",
      "4.7875476\n",
      "4.7786503\n",
      "4.775419\n",
      "4.7767954\n",
      "4.7894497\n",
      "4.7816353\n",
      "4.8032055\n",
      "4.7990093\n",
      "4.791894\n",
      "4.7925096\n",
      "4.7801933\n",
      "4.7773542\n",
      "4.7754292\n",
      "4.7901955\n",
      "4.7841735\n",
      "4.7897396\n",
      "4.790131\n",
      "4.7975283\n",
      "4.7905755\n",
      "4.790311\n",
      "4.7803793\n",
      "4.786519\n",
      "4.7753344\n",
      "4.781426\n",
      "4.794276\n",
      "4.793752\n",
      "4.7858324\n",
      "4.787873\n",
      "Training completed ! !\n",
      "Train Accuracy: 1.3333334\n",
      "Test Accuracy: 1.0\n",
      "Total iterations completed :  94\n"
     ]
    }
   ],
   "source": [
    "pred= model(x_train, x_test, y_train, y_test, num_epoches = 1, minibatch_size = 64, learning_rate = 0.1)"
   ]
  },
  {
   "cell_type": "code",
   "execution_count": null,
   "metadata": {
    "collapsed": true
   },
   "outputs": [],
   "source": []
  },
  {
   "cell_type": "code",
   "execution_count": null,
   "metadata": {
    "collapsed": true
   },
   "outputs": [],
   "source": []
  },
  {
   "cell_type": "code",
   "execution_count": null,
   "metadata": {
    "collapsed": true
   },
   "outputs": [],
   "source": []
  },
  {
   "cell_type": "code",
   "execution_count": null,
   "metadata": {
    "collapsed": true
   },
   "outputs": [],
   "source": []
  },
  {
   "cell_type": "code",
   "execution_count": null,
   "metadata": {
    "collapsed": true
   },
   "outputs": [],
   "source": []
  }
 ],
 "metadata": {
  "kernelspec": {
   "display_name": "Python 3",
   "language": "python",
   "name": "python3"
  },
  "language_info": {
   "codemirror_mode": {
    "name": "ipython",
    "version": 3
   },
   "file_extension": ".py",
   "mimetype": "text/x-python",
   "name": "python",
   "nbconvert_exporter": "python",
   "pygments_lexer": "ipython3",
   "version": "3.6.3"
  }
 },
 "nbformat": 4,
 "nbformat_minor": 2
}
